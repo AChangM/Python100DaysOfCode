{
 "cells": [
  {
   "cell_type": "markdown",
   "id": "c5b8fc9a-ce21-4c02-b2e0-35090b426801",
   "metadata": {},
   "source": [
    "#### Python Journey\n",
    "#### @AlfonsoChangM"
   ]
  },
  {
   "cell_type": "code",
   "execution_count": 1,
   "id": "c1ad24a8-41f3-4bb5-b93c-d7d0b17c476d",
   "metadata": {},
   "outputs": [],
   "source": [
    "from datetime import date"
   ]
  },
  {
   "cell_type": "code",
   "execution_count": 2,
   "id": "c2b412bc-b580-4f12-b754-70e26ef1f783",
   "metadata": {},
   "outputs": [
    {
     "data": {
      "text/plain": [
       "datetime.date(2021, 2, 20)"
      ]
     },
     "execution_count": 2,
     "metadata": {},
     "output_type": "execute_result"
    }
   ],
   "source": [
    "mydate = date(2021, 2, 20)\n",
    "mydate"
   ]
  },
  {
   "cell_type": "code",
   "execution_count": 3,
   "id": "5ffcbf0b-d154-4980-afbd-36cc7aab43d4",
   "metadata": {},
   "outputs": [
    {
     "data": {
      "text/plain": [
       "datetime.date"
      ]
     },
     "execution_count": 3,
     "metadata": {},
     "output_type": "execute_result"
    }
   ],
   "source": [
    "type(mydate)"
   ]
  },
  {
   "cell_type": "code",
   "execution_count": 4,
   "id": "ed4ed869-d87b-479c-961c-a2e9c4c20f84",
   "metadata": {},
   "outputs": [
    {
     "name": "stdout",
     "output_type": "stream",
     "text": [
      "2021-02-20\n"
     ]
    }
   ],
   "source": [
    "print(mydate)"
   ]
  },
  {
   "cell_type": "code",
   "execution_count": 5,
   "id": "d72a536b-3a68-4f68-94f4-2e2665cb6471",
   "metadata": {},
   "outputs": [
    {
     "data": {
      "text/plain": [
       "2021"
      ]
     },
     "execution_count": 5,
     "metadata": {},
     "output_type": "execute_result"
    }
   ],
   "source": [
    "mydate.year"
   ]
  },
  {
   "cell_type": "code",
   "execution_count": 6,
   "id": "2a9458c8-c2a2-40b7-a9a0-71f730b80011",
   "metadata": {},
   "outputs": [
    {
     "data": {
      "text/plain": [
       "2"
      ]
     },
     "execution_count": 6,
     "metadata": {},
     "output_type": "execute_result"
    }
   ],
   "source": [
    "mydate.month"
   ]
  },
  {
   "cell_type": "code",
   "execution_count": 7,
   "id": "740f3a25-b97e-4843-aad8-78eeaaa7816d",
   "metadata": {},
   "outputs": [
    {
     "data": {
      "text/plain": [
       "20"
      ]
     },
     "execution_count": 7,
     "metadata": {},
     "output_type": "execute_result"
    }
   ],
   "source": [
    "mydate.day"
   ]
  },
  {
   "cell_type": "code",
   "execution_count": 9,
   "id": "a3afda99-5ddc-413c-8ed0-f7602b17629d",
   "metadata": {},
   "outputs": [
    {
     "data": {
      "text/plain": [
       "5"
      ]
     },
     "execution_count": 9,
     "metadata": {},
     "output_type": "execute_result"
    }
   ],
   "source": [
    "mydate.weekday()"
   ]
  },
  {
   "cell_type": "code",
   "execution_count": 11,
   "id": "83ff33c9-b7cd-4f66-847f-8421a81ff6dc",
   "metadata": {},
   "outputs": [
    {
     "data": {
      "text/plain": [
       "datetime.timedelta(days=23)"
      ]
     },
     "execution_count": 11,
     "metadata": {},
     "output_type": "execute_result"
    }
   ],
   "source": [
    "date(2021, 3, 15) - date(2021, 2, 20)"
   ]
  },
  {
   "cell_type": "code",
   "execution_count": 12,
   "id": "021c5083-7aec-4b61-b928-754ad9df79a3",
   "metadata": {},
   "outputs": [
    {
     "data": {
      "text/plain": [
       "23"
      ]
     },
     "execution_count": 12,
     "metadata": {},
     "output_type": "execute_result"
    }
   ],
   "source": [
    "# a better way to write it:\n",
    "delta = date(2021, 3, 15) - date(2021, 2, 20)\n",
    "delta.days"
   ]
  },
  {
   "cell_type": "code",
   "execution_count": 13,
   "id": "4238a6f7-92c7-4a44-a497-86c789226106",
   "metadata": {},
   "outputs": [
    {
     "data": {
      "text/plain": [
       "datetime.timedelta"
      ]
     },
     "execution_count": 13,
     "metadata": {},
     "output_type": "execute_result"
    }
   ],
   "source": [
    "type(delta)"
   ]
  },
  {
   "cell_type": "code",
   "execution_count": 14,
   "id": "9414ef19-10fb-412a-ae59-cfecf9bd2df9",
   "metadata": {},
   "outputs": [
    {
     "data": {
      "text/plain": [
       "datetime.date(2021, 5, 15)"
      ]
     },
     "execution_count": 14,
     "metadata": {},
     "output_type": "execute_result"
    }
   ],
   "source": [
    "date(2021, 4, 22) + delta"
   ]
  },
  {
   "cell_type": "code",
   "execution_count": 17,
   "id": "89b4a873-be89-4050-aacf-662eaba9353a",
   "metadata": {},
   "outputs": [
    {
     "name": "stdout",
     "output_type": "stream",
     "text": [
      "2021-05-15\n"
     ]
    }
   ],
   "source": [
    "print(date(2021, 4, 22) + delta)"
   ]
  },
  {
   "cell_type": "code",
   "execution_count": null,
   "id": "3fb0857e-6113-443b-ac0d-69163bbb1470",
   "metadata": {},
   "outputs": [],
   "source": []
  }
 ],
 "metadata": {
  "kernelspec": {
   "display_name": "Python 3 (ipykernel)",
   "language": "python",
   "name": "python3"
  },
  "language_info": {
   "codemirror_mode": {
    "name": "ipython",
    "version": 3
   },
   "file_extension": ".py",
   "mimetype": "text/x-python",
   "name": "python",
   "nbconvert_exporter": "python",
   "pygments_lexer": "ipython3",
   "version": "3.8.12"
  }
 },
 "nbformat": 4,
 "nbformat_minor": 5
}
