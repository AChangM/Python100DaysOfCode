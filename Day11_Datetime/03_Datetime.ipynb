{
 "cells": [
  {
   "cell_type": "markdown",
   "id": "0c59c87e-3c66-49dd-8f2f-e58269c1ad23",
   "metadata": {},
   "source": [
    "#### Python Journey \n",
    "#### @AlfonsoChangM"
   ]
  },
  {
   "cell_type": "code",
   "execution_count": 1,
   "id": "fc0f5c3e-064d-49ee-a61a-5dc5c1b7d7cb",
   "metadata": {},
   "outputs": [],
   "source": [
    "from datetime import datetime"
   ]
  },
  {
   "cell_type": "code",
   "execution_count": 2,
   "id": "f204b78b-be85-465e-be6f-5410e1559b72",
   "metadata": {},
   "outputs": [
    {
     "data": {
      "text/plain": [
       "datetime.datetime(2021, 2, 20, 22, 30, 12, 500000)"
      ]
     },
     "execution_count": 2,
     "metadata": {},
     "output_type": "execute_result"
    }
   ],
   "source": [
    "my_datetime = datetime(year = 2021, month = 2, day = 20, \n",
    "                       hour = 22, minute = 30, second = 12,\n",
    "                       microsecond = 500000)\n",
    "my_datetime"
   ]
  },
  {
   "cell_type": "code",
   "execution_count": 3,
   "id": "5af55382-1fb4-4cba-8767-bdbc22c4dd98",
   "metadata": {},
   "outputs": [
    {
     "name": "stdout",
     "output_type": "stream",
     "text": [
      "2021-02-20 22:30:12.500000\n"
     ]
    }
   ],
   "source": [
    "print(my_datetime)"
   ]
  },
  {
   "cell_type": "code",
   "execution_count": 4,
   "id": "c352a2a3-3117-4777-bc82-4937653d39c5",
   "metadata": {},
   "outputs": [
    {
     "name": "stdout",
     "output_type": "stream",
     "text": [
      "2021-02-20 22:15:00.500000\n"
     ]
    }
   ],
   "source": [
    "# replacing some of the values of a datetime object\n",
    "my_datetime = my_datetime.replace( minute = 15, second = 0)\n",
    "print(my_datetime)"
   ]
  },
  {
   "cell_type": "code",
   "execution_count": null,
   "id": "97ba7266-5c58-4048-87e1-5dadb58d0611",
   "metadata": {},
   "outputs": [],
   "source": []
  }
 ],
 "metadata": {
  "kernelspec": {
   "display_name": "Python 3 (ipykernel)",
   "language": "python",
   "name": "python3"
  },
  "language_info": {
   "codemirror_mode": {
    "name": "ipython",
    "version": 3
   },
   "file_extension": ".py",
   "mimetype": "text/x-python",
   "name": "python",
   "nbconvert_exporter": "python",
   "pygments_lexer": "ipython3",
   "version": "3.8.12"
  }
 },
 "nbformat": 4,
 "nbformat_minor": 5
}
