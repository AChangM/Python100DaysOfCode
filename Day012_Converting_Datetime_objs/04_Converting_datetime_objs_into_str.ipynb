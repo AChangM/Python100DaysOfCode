{
 "cells": [
  {
   "cell_type": "markdown",
   "id": "acf8f2a9-bd1c-4c97-be11-af25469dcd8b",
   "metadata": {},
   "source": [
    "#### Python Journey\n",
    "#### @AlfonsoChangM"
   ]
  },
  {
   "cell_type": "code",
   "execution_count": 1,
   "id": "ad29e9aa-0097-4022-a8f5-f35744fcfb98",
   "metadata": {},
   "outputs": [],
   "source": [
    "from datetime import date, datetime"
   ]
  },
  {
   "cell_type": "code",
   "execution_count": 2,
   "id": "93f1f02a-0c5e-4502-bf51-3f0bcaa1b3ae",
   "metadata": {},
   "outputs": [
    {
     "data": {
      "text/plain": [
       "datetime.date(2021, 10, 30)"
      ]
     },
     "execution_count": 2,
     "metadata": {},
     "output_type": "execute_result"
    }
   ],
   "source": [
    "my_date = date(2021, 10, 30)\n",
    "my_date"
   ]
  },
  {
   "cell_type": "code",
   "execution_count": 3,
   "id": "bcd3726e-6690-4f08-8a7a-e21b31edac48",
   "metadata": {},
   "outputs": [
    {
     "data": {
      "text/plain": [
       "'2021'"
      ]
     },
     "execution_count": 3,
     "metadata": {},
     "output_type": "execute_result"
    }
   ],
   "source": [
    "my_date.strftime('%Y')"
   ]
  },
  {
   "cell_type": "code",
   "execution_count": 4,
   "id": "c929b0d7-b402-476d-98f8-523da8528def",
   "metadata": {},
   "outputs": [
    {
     "data": {
      "text/plain": [
       "str"
      ]
     },
     "execution_count": 4,
     "metadata": {},
     "output_type": "execute_result"
    }
   ],
   "source": [
    "type(my_date.strftime('%Y'))"
   ]
  },
  {
   "cell_type": "code",
   "execution_count": 5,
   "id": "f857024e-20e5-4ce3-acd3-4b57257b7816",
   "metadata": {},
   "outputs": [
    {
     "name": "stdout",
     "output_type": "stream",
     "text": [
      "2021\n"
     ]
    }
   ],
   "source": [
    "print(my_date.strftime('%Y'))"
   ]
  },
  {
   "cell_type": "code",
   "execution_count": 6,
   "id": "4c17225e-de56-4a31-a537-3a95cb7bb31d",
   "metadata": {},
   "outputs": [
    {
     "data": {
      "text/plain": [
       "'30'"
      ]
     },
     "execution_count": 6,
     "metadata": {},
     "output_type": "execute_result"
    }
   ],
   "source": [
    "my_date.strftime('%d')"
   ]
  },
  {
   "cell_type": "code",
   "execution_count": 7,
   "id": "269dbd85-59c6-45eb-8403-b41920ca5230",
   "metadata": {},
   "outputs": [
    {
     "data": {
      "text/plain": [
       "'Today is day 30 of month 10.'"
      ]
     },
     "execution_count": 7,
     "metadata": {},
     "output_type": "execute_result"
    }
   ],
   "source": [
    "my_date.strftime('Today is day %d of month %m.')"
   ]
  },
  {
   "cell_type": "code",
   "execution_count": 8,
   "id": "3be73581-4a0e-49d1-a523-252d19de4e90",
   "metadata": {},
   "outputs": [
    {
     "data": {
      "text/plain": [
       "datetime.datetime(2021, 2, 20, 22, 30, 12, 500000)"
      ]
     },
     "execution_count": 8,
     "metadata": {},
     "output_type": "execute_result"
    }
   ],
   "source": [
    "my_datetime = datetime(year = 2021, month = 2, day = 20, \n",
    "                       hour = 22, minute = 30, second = 12,\n",
    "                       microsecond = 500000)\n",
    "my_datetime"
   ]
  },
  {
   "cell_type": "code",
   "execution_count": 9,
   "id": "ec74e606-3763-4af1-be06-568a68bd3906",
   "metadata": {},
   "outputs": [
    {
     "data": {
      "text/plain": [
       "'It is 22 hour(s), 30 minute(s), and 12 second(s) at the moment.'"
      ]
     },
     "execution_count": 9,
     "metadata": {},
     "output_type": "execute_result"
    }
   ],
   "source": [
    "my_datetime.strftime('It is %H hour(s), %M minute(s), and %S second(s) at the moment.')"
   ]
  },
  {
   "cell_type": "code",
   "execution_count": null,
   "id": "2a741953-b5ed-43c1-9ce2-80a613be3750",
   "metadata": {},
   "outputs": [],
   "source": []
  }
 ],
 "metadata": {
  "kernelspec": {
   "display_name": "Python 3 (ipykernel)",
   "language": "python",
   "name": "python3"
  },
  "language_info": {
   "codemirror_mode": {
    "name": "ipython",
    "version": 3
   },
   "file_extension": ".py",
   "mimetype": "text/x-python",
   "name": "python",
   "nbconvert_exporter": "python",
   "pygments_lexer": "ipython3",
   "version": "3.8.12"
  }
 },
 "nbformat": 4,
 "nbformat_minor": 5
}
