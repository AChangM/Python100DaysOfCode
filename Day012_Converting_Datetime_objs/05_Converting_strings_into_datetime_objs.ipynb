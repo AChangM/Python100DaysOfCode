{
 "cells": [
  {
   "cell_type": "markdown",
   "id": "acf8f2a9-bd1c-4c97-be11-af25469dcd8b",
   "metadata": {},
   "source": [
    "#### Python Journey\n",
    "#### @AlfonsoChangM"
   ]
  },
  {
   "cell_type": "code",
   "execution_count": 1,
   "id": "ad29e9aa-0097-4022-a8f5-f35744fcfb98",
   "metadata": {},
   "outputs": [],
   "source": [
    "from datetime import datetime"
   ]
  },
  {
   "cell_type": "code",
   "execution_count": 2,
   "id": "93f1f02a-0c5e-4502-bf51-3f0bcaa1b3ae",
   "metadata": {},
   "outputs": [
    {
     "data": {
      "text/plain": [
       "'10:25:30 2021-10-30'"
      ]
     },
     "execution_count": 2,
     "metadata": {},
     "output_type": "execute_result"
    }
   ],
   "source": [
    "string_datetime = '10:25:30 2021-10-30'\n",
    "string_datetime"
   ]
  },
  {
   "cell_type": "code",
   "execution_count": 3,
   "id": "2a741953-b5ed-43c1-9ce2-80a613be3750",
   "metadata": {},
   "outputs": [
    {
     "data": {
      "text/plain": [
       "str"
      ]
     },
     "execution_count": 3,
     "metadata": {},
     "output_type": "execute_result"
    }
   ],
   "source": [
    "type(string_datetime)"
   ]
  },
  {
   "cell_type": "code",
   "execution_count": 4,
   "id": "0d718603-dc5a-491d-b338-2fed92b7d568",
   "metadata": {},
   "outputs": [
    {
     "data": {
      "text/plain": [
       "datetime.datetime(2021, 10, 30, 10, 25, 30)"
      ]
     },
     "execution_count": 4,
     "metadata": {},
     "output_type": "execute_result"
    }
   ],
   "source": [
    "my_first_datetime = datetime.strptime(string_datetime, '%H:%M:%S %Y-%m-%d')\n",
    "my_first_datetime"
   ]
  },
  {
   "cell_type": "code",
   "execution_count": null,
   "id": "7ea437b7-7691-471e-be3e-018cd3117865",
   "metadata": {},
   "outputs": [],
   "source": []
  }
 ],
 "metadata": {
  "kernelspec": {
   "display_name": "Python 3 (ipykernel)",
   "language": "python",
   "name": "python3"
  },
  "language_info": {
   "codemirror_mode": {
    "name": "ipython",
    "version": 3
   },
   "file_extension": ".py",
   "mimetype": "text/x-python",
   "name": "python",
   "nbconvert_exporter": "python",
   "pygments_lexer": "ipython3",
   "version": "3.8.12"
  }
 },
 "nbformat": 4,
 "nbformat_minor": 5
}
