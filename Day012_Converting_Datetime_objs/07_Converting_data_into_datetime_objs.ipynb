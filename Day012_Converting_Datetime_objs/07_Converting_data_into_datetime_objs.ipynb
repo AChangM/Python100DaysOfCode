{
 "cells": [
  {
   "cell_type": "markdown",
   "id": "70e75f1b-ae17-4874-8c5a-d6bd5ba8f504",
   "metadata": {},
   "source": [
    "#### Python Journey\n",
    "#### @AlfonsoChangM"
   ]
  },
  {
   "cell_type": "code",
   "execution_count": 1,
   "id": "0ca70b81-05c4-4eae-ba89-211489e396f3",
   "metadata": {},
   "outputs": [],
   "source": [
    "from datetime import datetime"
   ]
  },
  {
   "cell_type": "code",
   "execution_count": 2,
   "id": "fd12e0e3-b473-491f-902c-0e7e8f15716b",
   "metadata": {},
   "outputs": [
    {
     "data": {
      "text/plain": [
       "'10:25:30 2021-10-30'"
      ]
     },
     "execution_count": 2,
     "metadata": {},
     "output_type": "execute_result"
    }
   ],
   "source": [
    "string_datetime = '10:25:30 2021-10-30'\n",
    "string_datetime"
   ]
  },
  {
   "cell_type": "code",
   "execution_count": 3,
   "id": "0a82a4f5-dba7-4e17-b4eb-badf39bca2ea",
   "metadata": {},
   "outputs": [
    {
     "data": {
      "text/plain": [
       "str"
      ]
     },
     "execution_count": 3,
     "metadata": {},
     "output_type": "execute_result"
    }
   ],
   "source": [
    "type(string_datetime)"
   ]
  },
  {
   "cell_type": "code",
   "execution_count": 4,
   "id": "8c916cd0-8f63-4903-9aa8-a0205c59a84b",
   "metadata": {},
   "outputs": [
    {
     "data": {
      "text/plain": [
       "datetime.datetime(2021, 10, 30, 10, 25, 30)"
      ]
     },
     "execution_count": 4,
     "metadata": {},
     "output_type": "execute_result"
    }
   ],
   "source": [
    "my_first_datetime = datetime.strptime(string_datetime, '%H:%M:%S %Y-%m-%d')\n",
    "my_first_datetime"
   ]
  },
  {
   "cell_type": "markdown",
   "id": "16e3d567-1068-4765-947d-9cc6de696702",
   "metadata": {},
   "source": [
    "#### Data into datetime objects"
   ]
  },
  {
   "cell_type": "code",
   "execution_count": 5,
   "id": "d93606ad-c0df-41c0-91d8-8b58af23e02a",
   "metadata": {},
   "outputs": [],
   "source": [
    "import pandas as pd"
   ]
  },
  {
   "cell_type": "code",
   "execution_count": 6,
   "id": "dce19902-96d2-44e4-a1af-efddb101c14a",
   "metadata": {},
   "outputs": [
    {
     "data": {
      "text/plain": [
       "Timestamp('2021-10-30 10:25:30')"
      ]
     },
     "execution_count": 6,
     "metadata": {},
     "output_type": "execute_result"
    }
   ],
   "source": [
    "my_new_datetime = pd.to_datetime(string_datetime, format = '%H:%M:%S %Y-%m-%d')\n",
    "my_new_datetime"
   ]
  },
  {
   "cell_type": "code",
   "execution_count": 7,
   "id": "8d489782-d421-40f0-9996-42bc668ffb54",
   "metadata": {},
   "outputs": [
    {
     "data": {
      "text/plain": [
       "pandas._libs.tslibs.timestamps.Timestamp"
      ]
     },
     "execution_count": 7,
     "metadata": {},
     "output_type": "execute_result"
    }
   ],
   "source": [
    "type(my_new_datetime)"
   ]
  },
  {
   "cell_type": "code",
   "execution_count": 8,
   "id": "b4347b86-4d73-407d-9006-896b064b246a",
   "metadata": {},
   "outputs": [
    {
     "data": {
      "text/plain": [
       "Timestamp('2021-10-30 10:25:30')"
      ]
     },
     "execution_count": 8,
     "metadata": {},
     "output_type": "execute_result"
    }
   ],
   "source": [
    "# without the \"format\" parameter:\n",
    "my_new_datetime = pd.to_datetime(string_datetime)\n",
    "my_new_datetime"
   ]
  },
  {
   "cell_type": "code",
   "execution_count": 9,
   "id": "86daa01c-77e2-493d-80e1-d316390c2afe",
   "metadata": {
    "tags": []
   },
   "outputs": [
    {
     "data": {
      "text/plain": [
       "10"
      ]
     },
     "execution_count": 9,
     "metadata": {},
     "output_type": "execute_result"
    }
   ],
   "source": [
    "my_new_datetime.hour"
   ]
  },
  {
   "cell_type": "code",
   "execution_count": 10,
   "id": "2859e667-2da0-48e4-bf7c-9530c901b154",
   "metadata": {
    "tags": []
   },
   "outputs": [
    {
     "data": {
      "text/plain": [
       "25"
      ]
     },
     "execution_count": 10,
     "metadata": {},
     "output_type": "execute_result"
    }
   ],
   "source": [
    "my_new_datetime.minute"
   ]
  },
  {
   "cell_type": "code",
   "execution_count": 11,
   "id": "0aebecb2-f116-4233-bdb8-697a52d1faec",
   "metadata": {},
   "outputs": [
    {
     "data": {
      "text/plain": [
       "30"
      ]
     },
     "execution_count": 11,
     "metadata": {},
     "output_type": "execute_result"
    }
   ],
   "source": [
    "my_new_datetime.second"
   ]
  },
  {
   "cell_type": "code",
   "execution_count": 12,
   "id": "fb0be0b9-a2db-4311-b7a8-61fd90aa5536",
   "metadata": {},
   "outputs": [
    {
     "data": {
      "text/plain": [
       "2021"
      ]
     },
     "execution_count": 12,
     "metadata": {},
     "output_type": "execute_result"
    }
   ],
   "source": [
    "my_new_datetime.year"
   ]
  },
  {
   "cell_type": "code",
   "execution_count": 13,
   "id": "d2d0893e-484e-40b2-af7f-ef3a12848eb6",
   "metadata": {},
   "outputs": [
    {
     "data": {
      "text/plain": [
       "10"
      ]
     },
     "execution_count": 13,
     "metadata": {},
     "output_type": "execute_result"
    }
   ],
   "source": [
    "my_new_datetime.month"
   ]
  },
  {
   "cell_type": "code",
   "execution_count": 14,
   "id": "6cd4473e-3e89-4d18-8178-a7834e92e004",
   "metadata": {},
   "outputs": [
    {
     "data": {
      "text/plain": [
       "30"
      ]
     },
     "execution_count": 14,
     "metadata": {},
     "output_type": "execute_result"
    }
   ],
   "source": [
    "my_new_datetime.day"
   ]
  },
  {
   "cell_type": "code",
   "execution_count": 17,
   "id": "9a468221-9269-495c-accf-26924b418507",
   "metadata": {},
   "outputs": [
    {
     "data": {
      "text/html": [
       "<div>\n",
       "<style scoped>\n",
       "    .dataframe tbody tr th:only-of-type {\n",
       "        vertical-align: middle;\n",
       "    }\n",
       "\n",
       "    .dataframe tbody tr th {\n",
       "        vertical-align: top;\n",
       "    }\n",
       "\n",
       "    .dataframe thead th {\n",
       "        text-align: right;\n",
       "    }\n",
       "</style>\n",
       "<table border=\"1\" class=\"dataframe\">\n",
       "  <thead>\n",
       "    <tr style=\"text-align: right;\">\n",
       "      <th></th>\n",
       "      <th>StringID</th>\n",
       "      <th>Product</th>\n",
       "      <th>CustomerGender</th>\n",
       "      <th>Location</th>\n",
       "      <th>Region</th>\n",
       "      <th>TotalPrice</th>\n",
       "      <th>StartDate</th>\n",
       "      <th>Deposit</th>\n",
       "      <th>DailyRate</th>\n",
       "      <th>TotalDaysYr</th>\n",
       "      <th>AmtPaid36</th>\n",
       "      <th>AmtPaid60</th>\n",
       "      <th>AmtPaid360</th>\n",
       "      <th>LoanStatus</th>\n",
       "    </tr>\n",
       "    <tr>\n",
       "      <th>LoanID</th>\n",
       "      <th></th>\n",
       "      <th></th>\n",
       "      <th></th>\n",
       "      <th></th>\n",
       "      <th></th>\n",
       "      <th></th>\n",
       "      <th></th>\n",
       "      <th></th>\n",
       "      <th></th>\n",
       "      <th></th>\n",
       "      <th></th>\n",
       "      <th></th>\n",
       "      <th></th>\n",
       "      <th></th>\n",
       "    </tr>\n",
       "  </thead>\n",
       "  <tbody>\n",
       "    <tr>\n",
       "      <th>1</th>\n",
       "      <td>LoanID_1</td>\n",
       "      <td>Product B</td>\n",
       "      <td>Female</td>\n",
       "      <td>Location 3</td>\n",
       "      <td>Region 2</td>\n",
       "      <td>17600.0</td>\n",
       "      <td>04/07/2018</td>\n",
       "      <td>2200</td>\n",
       "      <td>45</td>\n",
       "      <td>365</td>\n",
       "      <td>3221</td>\n",
       "      <td>4166</td>\n",
       "      <td>14621</td>\n",
       "      <td>Active</td>\n",
       "    </tr>\n",
       "    <tr>\n",
       "      <th>2</th>\n",
       "      <td>LoanID_2</td>\n",
       "      <td>Product D</td>\n",
       "      <td>Female</td>\n",
       "      <td>Location 6</td>\n",
       "      <td>Region 6</td>\n",
       "      <td>NaN</td>\n",
       "      <td>02/01/2019</td>\n",
       "      <td>2200</td>\n",
       "      <td>45</td>\n",
       "      <td>365</td>\n",
       "      <td>3161</td>\n",
       "      <td>4096</td>\n",
       "      <td>16041</td>\n",
       "      <td>Active</td>\n",
       "    </tr>\n",
       "    <tr>\n",
       "      <th>3</th>\n",
       "      <td>LoanID_3</td>\n",
       "      <td>Product B</td>\n",
       "      <td>Male</td>\n",
       "      <td>Location 8</td>\n",
       "      <td>Region 3</td>\n",
       "      <td>16600.0</td>\n",
       "      <td>08/12/2016</td>\n",
       "      <td>1000</td>\n",
       "      <td>45</td>\n",
       "      <td>365</td>\n",
       "      <td>2260</td>\n",
       "      <td>3205</td>\n",
       "      <td>16340</td>\n",
       "      <td>NaN</td>\n",
       "    </tr>\n",
       "    <tr>\n",
       "      <th>4</th>\n",
       "      <td>LoanID_4</td>\n",
       "      <td>Product A</td>\n",
       "      <td>Male</td>\n",
       "      <td>Location 26</td>\n",
       "      <td>Region 2</td>\n",
       "      <td>17600.0</td>\n",
       "      <td>NaN</td>\n",
       "      <td>2200</td>\n",
       "      <td>45</td>\n",
       "      <td>365</td>\n",
       "      <td>3141</td>\n",
       "      <td>4166</td>\n",
       "      <td>16321</td>\n",
       "      <td>Active</td>\n",
       "    </tr>\n",
       "    <tr>\n",
       "      <th>5</th>\n",
       "      <td>LoanID_5</td>\n",
       "      <td>Product B</td>\n",
       "      <td>Female</td>\n",
       "      <td>Location 34</td>\n",
       "      <td>Region 3</td>\n",
       "      <td>21250.0</td>\n",
       "      <td>28/10/2017</td>\n",
       "      <td>2200</td>\n",
       "      <td>55</td>\n",
       "      <td>365</td>\n",
       "      <td>3570</td>\n",
       "      <td>4745</td>\n",
       "      <td>14720</td>\n",
       "      <td>Active</td>\n",
       "    </tr>\n",
       "  </tbody>\n",
       "</table>\n",
       "</div>"
      ],
      "text/plain": [
       "        StringID    Product CustomerGender     Location    Region  TotalPrice  \\\n",
       "LoanID                                                                          \n",
       "1       LoanID_1  Product B         Female   Location 3  Region 2     17600.0   \n",
       "2       LoanID_2  Product D         Female   Location 6  Region 6         NaN   \n",
       "3       LoanID_3  Product B           Male   Location 8  Region 3     16600.0   \n",
       "4       LoanID_4  Product A           Male  Location 26  Region 2     17600.0   \n",
       "5       LoanID_5  Product B         Female  Location 34  Region 3     21250.0   \n",
       "\n",
       "         StartDate  Deposit  DailyRate  TotalDaysYr  AmtPaid36  AmtPaid60  \\\n",
       "LoanID                                                                      \n",
       "1       04/07/2018     2200         45          365       3221       4166   \n",
       "2       02/01/2019     2200         45          365       3161       4096   \n",
       "3       08/12/2016     1000         45          365       2260       3205   \n",
       "4              NaN     2200         45          365       3141       4166   \n",
       "5       28/10/2017     2200         55          365       3570       4745   \n",
       "\n",
       "        AmtPaid360 LoanStatus  \n",
       "LoanID                         \n",
       "1            14621     Active  \n",
       "2            16041     Active  \n",
       "3            16340        NaN  \n",
       "4            16321     Active  \n",
       "5            14720     Active  "
      ]
     },
     "execution_count": 17,
     "metadata": {},
     "output_type": "execute_result"
    }
   ],
   "source": [
    "data = pd.read_csv('Lending-company.csv', index_col = 'LoanID')\n",
    "lending_co_data = data.copy()\n",
    "lending_co_data.head()"
   ]
  },
  {
   "cell_type": "code",
   "execution_count": 18,
   "id": "d4efec25-910b-4b6e-8e7c-2a8597692204",
   "metadata": {},
   "outputs": [
    {
     "data": {
      "text/plain": [
       "LoanID\n",
       "1    04/07/2018\n",
       "2    02/01/2019\n",
       "3    08/12/2016\n",
       "4           NaN\n",
       "5    28/10/2017\n",
       "Name: StartDate, dtype: object"
      ]
     },
     "execution_count": 18,
     "metadata": {},
     "output_type": "execute_result"
    }
   ],
   "source": [
    "# we are interested in 'StartDate'\n",
    "lending_co_data['StartDate'].head()"
   ]
  },
  {
   "cell_type": "code",
   "execution_count": 19,
   "id": "634fb8ec-de22-48c5-aeda-e6686356e26c",
   "metadata": {},
   "outputs": [
    {
     "data": {
      "text/plain": [
       "LoanID\n",
       "1      2018-04-07\n",
       "2      2019-02-01\n",
       "3      2016-08-12\n",
       "4             NaT\n",
       "5      2017-10-28\n",
       "          ...    \n",
       "1039   2018-12-29\n",
       "1040   2018-03-28\n",
       "1041   2018-04-26\n",
       "1042   2016-10-25\n",
       "1043   2019-05-15\n",
       "Name: StartDate, Length: 1043, dtype: datetime64[ns]"
      ]
     },
     "execution_count": 19,
     "metadata": {},
     "output_type": "execute_result"
    }
   ],
   "source": [
    "pd.to_datetime(lending_co_data['StartDate'])"
   ]
  },
  {
   "cell_type": "code",
   "execution_count": 20,
   "id": "3f245938-535d-40d7-bd5f-ed89112657e8",
   "metadata": {},
   "outputs": [
    {
     "data": {
      "text/html": [
       "<div>\n",
       "<style scoped>\n",
       "    .dataframe tbody tr th:only-of-type {\n",
       "        vertical-align: middle;\n",
       "    }\n",
       "\n",
       "    .dataframe tbody tr th {\n",
       "        vertical-align: top;\n",
       "    }\n",
       "\n",
       "    .dataframe thead th {\n",
       "        text-align: right;\n",
       "    }\n",
       "</style>\n",
       "<table border=\"1\" class=\"dataframe\">\n",
       "  <thead>\n",
       "    <tr style=\"text-align: right;\">\n",
       "      <th></th>\n",
       "      <th>StringID</th>\n",
       "      <th>Product</th>\n",
       "      <th>CustomerGender</th>\n",
       "      <th>Location</th>\n",
       "      <th>Region</th>\n",
       "      <th>TotalPrice</th>\n",
       "      <th>StartDate</th>\n",
       "      <th>Deposit</th>\n",
       "      <th>DailyRate</th>\n",
       "      <th>TotalDaysYr</th>\n",
       "      <th>AmtPaid36</th>\n",
       "      <th>AmtPaid60</th>\n",
       "      <th>AmtPaid360</th>\n",
       "      <th>LoanStatus</th>\n",
       "    </tr>\n",
       "    <tr>\n",
       "      <th>LoanID</th>\n",
       "      <th></th>\n",
       "      <th></th>\n",
       "      <th></th>\n",
       "      <th></th>\n",
       "      <th></th>\n",
       "      <th></th>\n",
       "      <th></th>\n",
       "      <th></th>\n",
       "      <th></th>\n",
       "      <th></th>\n",
       "      <th></th>\n",
       "      <th></th>\n",
       "      <th></th>\n",
       "      <th></th>\n",
       "    </tr>\n",
       "  </thead>\n",
       "  <tbody>\n",
       "    <tr>\n",
       "      <th>1</th>\n",
       "      <td>LoanID_1</td>\n",
       "      <td>Product B</td>\n",
       "      <td>Female</td>\n",
       "      <td>Location 3</td>\n",
       "      <td>Region 2</td>\n",
       "      <td>17600.0</td>\n",
       "      <td>2018-04-07</td>\n",
       "      <td>2200</td>\n",
       "      <td>45</td>\n",
       "      <td>365</td>\n",
       "      <td>3221</td>\n",
       "      <td>4166</td>\n",
       "      <td>14621</td>\n",
       "      <td>Active</td>\n",
       "    </tr>\n",
       "    <tr>\n",
       "      <th>2</th>\n",
       "      <td>LoanID_2</td>\n",
       "      <td>Product D</td>\n",
       "      <td>Female</td>\n",
       "      <td>Location 6</td>\n",
       "      <td>Region 6</td>\n",
       "      <td>NaN</td>\n",
       "      <td>2019-02-01</td>\n",
       "      <td>2200</td>\n",
       "      <td>45</td>\n",
       "      <td>365</td>\n",
       "      <td>3161</td>\n",
       "      <td>4096</td>\n",
       "      <td>16041</td>\n",
       "      <td>Active</td>\n",
       "    </tr>\n",
       "    <tr>\n",
       "      <th>3</th>\n",
       "      <td>LoanID_3</td>\n",
       "      <td>Product B</td>\n",
       "      <td>Male</td>\n",
       "      <td>Location 8</td>\n",
       "      <td>Region 3</td>\n",
       "      <td>16600.0</td>\n",
       "      <td>2016-08-12</td>\n",
       "      <td>1000</td>\n",
       "      <td>45</td>\n",
       "      <td>365</td>\n",
       "      <td>2260</td>\n",
       "      <td>3205</td>\n",
       "      <td>16340</td>\n",
       "      <td>NaN</td>\n",
       "    </tr>\n",
       "    <tr>\n",
       "      <th>4</th>\n",
       "      <td>LoanID_4</td>\n",
       "      <td>Product A</td>\n",
       "      <td>Male</td>\n",
       "      <td>Location 26</td>\n",
       "      <td>Region 2</td>\n",
       "      <td>17600.0</td>\n",
       "      <td>NaT</td>\n",
       "      <td>2200</td>\n",
       "      <td>45</td>\n",
       "      <td>365</td>\n",
       "      <td>3141</td>\n",
       "      <td>4166</td>\n",
       "      <td>16321</td>\n",
       "      <td>Active</td>\n",
       "    </tr>\n",
       "    <tr>\n",
       "      <th>5</th>\n",
       "      <td>LoanID_5</td>\n",
       "      <td>Product B</td>\n",
       "      <td>Female</td>\n",
       "      <td>Location 34</td>\n",
       "      <td>Region 3</td>\n",
       "      <td>21250.0</td>\n",
       "      <td>2017-10-28</td>\n",
       "      <td>2200</td>\n",
       "      <td>55</td>\n",
       "      <td>365</td>\n",
       "      <td>3570</td>\n",
       "      <td>4745</td>\n",
       "      <td>14720</td>\n",
       "      <td>Active</td>\n",
       "    </tr>\n",
       "  </tbody>\n",
       "</table>\n",
       "</div>"
      ],
      "text/plain": [
       "        StringID    Product CustomerGender     Location    Region  TotalPrice  \\\n",
       "LoanID                                                                          \n",
       "1       LoanID_1  Product B         Female   Location 3  Region 2     17600.0   \n",
       "2       LoanID_2  Product D         Female   Location 6  Region 6         NaN   \n",
       "3       LoanID_3  Product B           Male   Location 8  Region 3     16600.0   \n",
       "4       LoanID_4  Product A           Male  Location 26  Region 2     17600.0   \n",
       "5       LoanID_5  Product B         Female  Location 34  Region 3     21250.0   \n",
       "\n",
       "        StartDate  Deposit  DailyRate  TotalDaysYr  AmtPaid36  AmtPaid60  \\\n",
       "LoanID                                                                     \n",
       "1      2018-04-07     2200         45          365       3221       4166   \n",
       "2      2019-02-01     2200         45          365       3161       4096   \n",
       "3      2016-08-12     1000         45          365       2260       3205   \n",
       "4             NaT     2200         45          365       3141       4166   \n",
       "5      2017-10-28     2200         55          365       3570       4745   \n",
       "\n",
       "        AmtPaid360 LoanStatus  \n",
       "LoanID                         \n",
       "1            14621     Active  \n",
       "2            16041     Active  \n",
       "3            16340        NaN  \n",
       "4            16321     Active  \n",
       "5            14720     Active  "
      ]
     },
     "execution_count": 20,
     "metadata": {},
     "output_type": "execute_result"
    }
   ],
   "source": [
    "lending_co_data['StartDate'] = pd.to_datetime(lending_co_data['StartDate'])\n",
    "lending_co_data.head()"
   ]
  },
  {
   "cell_type": "code",
   "execution_count": null,
   "id": "844a774a-93ee-4e2b-bced-661da1aa6f5b",
   "metadata": {},
   "outputs": [],
   "source": []
  }
 ],
 "metadata": {
  "kernelspec": {
   "display_name": "Python 3 (ipykernel)",
   "language": "python",
   "name": "python3"
  },
  "language_info": {
   "codemirror_mode": {
    "name": "ipython",
    "version": 3
   },
   "file_extension": ".py",
   "mimetype": "text/x-python",
   "name": "python",
   "nbconvert_exporter": "python",
   "pygments_lexer": "ipython3",
   "version": "3.8.12"
  }
 },
 "nbformat": 4,
 "nbformat_minor": 5
}
