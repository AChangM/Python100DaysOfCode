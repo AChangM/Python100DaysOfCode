{
 "cells": [
  {
   "cell_type": "markdown",
   "id": "a27432da-0d70-46d8-a4ea-4bb9a6ee9252",
   "metadata": {},
   "source": [
    "#### Python Journey\n",
    "#### @AlfonsoChangM"
   ]
  },
  {
   "cell_type": "code",
   "execution_count": 1,
   "id": "6b824693-8611-49fc-b53c-2a68f47ffb61",
   "metadata": {},
   "outputs": [],
   "source": [
    "from datetime import datetime\n",
    "import pandas as pd\n",
    "import numpy as np"
   ]
  },
  {
   "cell_type": "code",
   "execution_count": 2,
   "id": "146faf9e-2234-4d7f-b6c1-3b9da61d09af",
   "metadata": {},
   "outputs": [
    {
     "name": "stdout",
     "output_type": "stream",
     "text": [
      "1975-01-05 23:50:01.200000\n"
     ]
    }
   ],
   "source": [
    "# to datetime\n",
    "my_timestamp = 158215801.2000\n",
    "print(datetime.fromtimestamp(my_timestamp))"
   ]
  },
  {
   "cell_type": "code",
   "execution_count": 3,
   "id": "3483a5f2-e3e7-4a7b-a978-cb5fedee40a4",
   "metadata": {},
   "outputs": [
    {
     "name": "stdout",
     "output_type": "stream",
     "text": [
      "1975-01-06 04:50:01.200000\n"
     ]
    }
   ],
   "source": [
    "# to UTC\n",
    "print(datetime.utcfromtimestamp(my_timestamp))"
   ]
  },
  {
   "cell_type": "code",
   "execution_count": 4,
   "id": "48c90dab-25a3-4153-85e0-fa0890c06819",
   "metadata": {},
   "outputs": [
    {
     "data": {
      "text/plain": [
       "datetime.datetime(2021, 2, 20, 22, 30, 12, 500000)"
      ]
     },
     "execution_count": 4,
     "metadata": {},
     "output_type": "execute_result"
    }
   ],
   "source": [
    "my_new_datetime = datetime(2021, 2, 20, \n",
    "                           22, 30, 12,\n",
    "                           500000)\n",
    "my_new_datetime"
   ]
  },
  {
   "cell_type": "code",
   "execution_count": 5,
   "id": "e1418b1d-d802-4887-887c-e52179e187f9",
   "metadata": {},
   "outputs": [
    {
     "data": {
      "text/plain": [
       "1613878212.5"
      ]
     },
     "execution_count": 5,
     "metadata": {},
     "output_type": "execute_result"
    }
   ],
   "source": [
    "# to timestamp\n",
    "my_new_datetime.timestamp()"
   ]
  },
  {
   "cell_type": "code",
   "execution_count": 6,
   "id": "69aeb6aa-af28-43c4-85f9-6909cd088774",
   "metadata": {},
   "outputs": [
    {
     "data": {
      "text/plain": [
       "datetime.datetime(2021, 10, 30, 16, 46, 43, 310463)"
      ]
     },
     "execution_count": 6,
     "metadata": {},
     "output_type": "execute_result"
    }
   ],
   "source": [
    "current_time = datetime.now()\n",
    "current_time"
   ]
  },
  {
   "cell_type": "code",
   "execution_count": 7,
   "id": "f5046293-e93d-4e51-9935-128efc252a6d",
   "metadata": {},
   "outputs": [
    {
     "data": {
      "text/plain": [
       "1635630403.310463"
      ]
     },
     "execution_count": 7,
     "metadata": {},
     "output_type": "execute_result"
    }
   ],
   "source": [
    "current_timestamp = datetime.timestamp(current_time)\n",
    "current_timestamp"
   ]
  },
  {
   "cell_type": "code",
   "execution_count": 9,
   "id": "8a560e34-9250-43ca-8bf0-c4cb7e9cbe00",
   "metadata": {},
   "outputs": [
    {
     "data": {
      "text/plain": [
       "datetime.datetime(2021, 10, 30, 16, 46, 43, 310463)"
      ]
     },
     "execution_count": 9,
     "metadata": {},
     "output_type": "execute_result"
    }
   ],
   "source": [
    "current_datetime = datetime.fromtimestamp(current_timestamp)\n",
    "current_datetime"
   ]
  },
  {
   "cell_type": "code",
   "execution_count": 10,
   "id": "3aad0220-f3e7-4cb6-867d-18c5b9762850",
   "metadata": {},
   "outputs": [
    {
     "data": {
      "text/plain": [
       "Timestamp('2021-01-20 18:05:00')"
      ]
     },
     "execution_count": 10,
     "metadata": {},
     "output_type": "execute_result"
    }
   ],
   "source": [
    "# a pandas representation\n",
    "pandas_timestamp = pd.Timestamp(datetime(2021, 1, 20, 18, 5))\n",
    "pandas_timestamp"
   ]
  },
  {
   "cell_type": "code",
   "execution_count": 11,
   "id": "d1340070-1185-4791-85f9-c3de6e82cb16",
   "metadata": {},
   "outputs": [
    {
     "data": {
      "text/plain": [
       "numpy.datetime64('2021-01-20T18:05:00')"
      ]
     },
     "execution_count": 11,
     "metadata": {},
     "output_type": "execute_result"
    }
   ],
   "source": [
    "# a numPy representation\n",
    "numpy_timestamp = np.datetime64('2021-01-20 18:05:00')\n",
    "numpy_timestamp"
   ]
  },
  {
   "cell_type": "code",
   "execution_count": null,
   "id": "8fe3fc52-5eb5-4876-913a-ac120bb07d54",
   "metadata": {},
   "outputs": [],
   "source": []
  }
 ],
 "metadata": {
  "kernelspec": {
   "display_name": "Python 3 (ipykernel)",
   "language": "python",
   "name": "python3"
  },
  "language_info": {
   "codemirror_mode": {
    "name": "ipython",
    "version": 3
   },
   "file_extension": ".py",
   "mimetype": "text/x-python",
   "name": "python",
   "nbconvert_exporter": "python",
   "pygments_lexer": "ipython3",
   "version": "3.8.12"
  }
 },
 "nbformat": 4,
 "nbformat_minor": 5
}
