{
 "cells": [
  {
   "cell_type": "markdown",
   "id": "70e75f1b-ae17-4874-8c5a-d6bd5ba8f504",
   "metadata": {},
   "source": [
    "#### Python Journey\n",
    "#### @AlfonsoChangM"
   ]
  },
  {
   "cell_type": "code",
   "execution_count": 2,
   "id": "0ca70b81-05c4-4eae-ba89-211489e396f3",
   "metadata": {},
   "outputs": [],
   "source": [
    "from datetime import datetime"
   ]
  },
  {
   "cell_type": "code",
   "execution_count": 3,
   "id": "fd12e0e3-b473-491f-902c-0e7e8f15716b",
   "metadata": {},
   "outputs": [
    {
     "data": {
      "text/plain": [
       "'10:25:30 2021-10-30'"
      ]
     },
     "execution_count": 3,
     "metadata": {},
     "output_type": "execute_result"
    }
   ],
   "source": [
    "string_datetime = '10:25:30 2021-10-30'\n",
    "string_datetime"
   ]
  },
  {
   "cell_type": "code",
   "execution_count": 4,
   "id": "0a82a4f5-dba7-4e17-b4eb-badf39bca2ea",
   "metadata": {},
   "outputs": [
    {
     "data": {
      "text/plain": [
       "str"
      ]
     },
     "execution_count": 4,
     "metadata": {},
     "output_type": "execute_result"
    }
   ],
   "source": [
    "type(string_datetime)"
   ]
  },
  {
   "cell_type": "code",
   "execution_count": 5,
   "id": "8c916cd0-8f63-4903-9aa8-a0205c59a84b",
   "metadata": {},
   "outputs": [
    {
     "data": {
      "text/plain": [
       "datetime.datetime(2021, 10, 30, 10, 25, 30)"
      ]
     },
     "execution_count": 5,
     "metadata": {},
     "output_type": "execute_result"
    }
   ],
   "source": [
    "my_first_datetime = datetime.strptime(string_datetime, '%H:%M:%S %Y-%m-%d')\n",
    "my_first_datetime"
   ]
  },
  {
   "cell_type": "code",
   "execution_count": null,
   "id": "dc351882-8d3b-4cfa-a5f9-9e6a6ddd41c1",
   "metadata": {},
   "outputs": [],
   "source": []
  }
 ],
 "metadata": {
  "kernelspec": {
   "display_name": "Python 3 (ipykernel)",
   "language": "python",
   "name": "python3"
  },
  "language_info": {
   "codemirror_mode": {
    "name": "ipython",
    "version": 3
   },
   "file_extension": ".py",
   "mimetype": "text/x-python",
   "name": "python",
   "nbconvert_exporter": "python",
   "pygments_lexer": "ipython3",
   "version": "3.8.12"
  }
 },
 "nbformat": 4,
 "nbformat_minor": 5
}
